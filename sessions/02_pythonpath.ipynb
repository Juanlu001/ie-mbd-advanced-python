{
 "cells": [
  {
   "cell_type": "markdown",
   "metadata": {
    "slideshow": {
     "slide_type": "slide"
    }
   },
   "source": [
    "![IE](../img/ie.png)\n",
    "\n",
    "# Session 2: The Python execution model\n",
    "\n",
    "### Juan Luis Cano Rodríguez <jcano@faculty.ie.edu> - Master in Business Analytics and Big Data"
   ]
  },
  {
   "cell_type": "markdown",
   "metadata": {},
   "source": [
    "## How does `import` work?\n",
    "\n",
    "How do `import os` and `import pandas` work? What happens if the latter is not installed?"
   ]
  },
  {
   "cell_type": "markdown",
   "metadata": {},
   "source": [
    "## How can I `import` my code?\n",
    "\n",
    "There are three ways to `import` our own code:\n",
    "\n",
    "- **Being on the same directory**. This is the quickest, however it scales quite poorly (imagine having all of pandas and scikit-learn in a single directory to do any data analysis project!)\n",
    "- **Appending our code location to `PYTHONPATH`**. This is effective, but we will try to avoid it because it can bring problems in the future.\n",
    "- **Making our code _installable_**. Since any code that's _installed_ can be _imported_, this shifts the question to \"how to make our code installable\".\n",
    "\n",
    "However, let's first explore the implications of the first two options."
   ]
  },
  {
   "cell_type": "markdown",
   "metadata": {},
   "source": [
    "### Our first Python library\n",
    "\n",
    "We will create a new Python library, \"IE Titanic utils\", to analyze the [Titanic dataset](https://www.kaggle.com/c/titanic/data). To start:\n",
    "\n",
    "1. Open a command line\n",
    "2. Browse to your home directory: `cd`\n",
    "   - Or just any directory of your liking: `cd ~/Projects/IE`\n",
    "3. Create a new directory: `mkdir ie-titanic-utils`\n",
    "4. Enter that directory: `cd ie-titanic-utils`\n",
    "\n",
    "And we will do some basic setup before we start coding:\n",
    "\n",
    "5. Create a basic `README.md` containing the name of the project and your name\n",
    "6. Let's generate an appropriate `.gitignore` file next to `README.md`\n",
    "   - For simplicity, you can use https://www.gitignore.io/api/python,jupyternotebooks\n",
    "7. `git add` the two new files, and `git commit` with the message `\"First commit\"`"
   ]
  },
  {
   "cell_type": "markdown",
   "metadata": {},
   "source": [
    "#### Exercise\n",
    "\n",
    "Now that we have some basic structure, let's write some basic code.\n",
    "\n",
    "1. Create a `str_utils.py` file with a function called `tokenize` that takes a `str` sentence and splits it into a `list` of words\n",
    "2. Open a Python interpreter (`python` on the command line) and check that `from str_utils import tokenize` works\n",
    "3. Test the function by calling it with some sentence"
   ]
  },
  {
   "cell_type": "markdown",
   "metadata": {},
   "source": [
    "### The `PYTHONPATH`\n",
    "\n",
    "We saw above that we could easily import our `tokenize` function. However, this only works if we are in the same directory:\n",
    "\n",
    "```\n",
    "$ ls\n",
    "str_utils.py README.md\n",
    "$ cd ..\n",
    "$ ls\n",
    "ie-titanic-utils\n",
    "$ python3\n",
    ">>> import math  # Still works\n",
    ">>> import str_utils\n",
    "Traceback (most recent call last):\n",
    "  File \"<stdin>\", line 1, in <module>\n",
    "ModuleNotFoundError: No module named 'str_utils'\n",
    "```\n",
    "\n",
    "Why? Python looks in some predefined locations to know where to find what we want to import, called the \"PATH\":\n",
    "\n",
    "```\n",
    ">>> import sys\n",
    ">>> sys.path\n",
    "['', '/usr/lib/python37.zip', '/usr/lib/python3.7', '/usr/lib/python3.7/lib-dynload', '/usr/local/lib/python3.7/dist-packages', '/usr/lib/python3/dist-packages']\n",
    "```\n",
    "\n",
    "Therefore, there are two ways of making our code **globally importable**:\n",
    "\n",
    "1. Modify the \"PATH\"\n",
    "2. Put our code inside a location predefined in the \"PATH\"\n",
    "\n",
    "The first option can be achieved like this:\n",
    "\n",
    "```\n",
    ">>> sys.path.insert(0, \"/home/username/ie-titanic-utils\")\n",
    ">>> import str_utils  # Works!\n",
    ">>>\n",
    "```\n",
    "\n",
    "Or, alternatively, from outside of the interpreter:\n",
    "\n",
    "```\n",
    "$ export PYTHONPATH=/home/username/ie-titanic-utils\n",
    "$ python3\n",
    ">>> import sys\n",
    ">>> sys.path  # Notice the change!\n",
    "['', '/home/username/ie-nlp-utils', '/usr/lib/python37.zip', '/usr/lib/python3.7', '/usr/lib/python3.7/lib-dynload', '/usr/local/lib/python3.7/dist-packages', '/usr/lib/python3/dist-packages']\n",
    ">>> import str_utils  # Now it works!\n",
    ">>>\n",
    "```\n",
    "\n",
    "However, **both are bad practices and should be avoided**. In future sessions we will see [the right way to distribute Python code](https://packaging.python.org/tutorials/packaging-projects/)."
   ]
  },
  {
   "cell_type": "markdown",
   "metadata": {},
   "source": [
    "### What does `import` do?\n",
    "\n",
    "Python code is normally written in `.py` scripts. For example:\n",
    "\n",
    "```\n",
    "$ tail -n1 str_utils.py\n",
    "print(tokenize([\"Hello, world!\"]))\n",
    "$ python hello.py \n",
    "['Hello,', 'world!']\n",
    "```\n",
    "\n",
    "These scripts can be imported in the same way that any model or package from the [standard library](https://docs.python.org/3/library/index.html) can:\n",
    "\n",
    "```\n",
    "$ python3\n",
    ">>> import math  # Works, because it's in stdlib\n",
    ">>> import numpy as np  # Works if you ran `pip install numpy` in advance\n",
    ">>> import str_utils  # Works if you are in the same directory\n",
    "['Hello,', 'world!']\n",
    ">>> \n",
    "```\n",
    "\n",
    "When the user imports a script, **Python runs the script**. That's the way all the possible functions and classes inside it are available."
   ]
  },
  {
   "cell_type": "markdown",
   "metadata": {},
   "source": [
    "### How to separate \"running code\" from reusable pieces\n",
    "\n",
    "A Python module (any `.py` script) might contain code that we want to _run_, as well as code that we only want to _import_. To separate these, we use this trick:\n",
    "\n",
    "```\n",
    "$ tail -n2 str_utils.py\n",
    "if __name__ == \"__main__\":\n",
    "    print(tokenize(\"Hello, world!\"))\n",
    "$ python hello.py  # The `print` runs\n",
    "['Hello,', 'world!']\n",
    "$ python\n",
    ">>> import str_utils  # The `print` doesn't run!\n",
    ">>>\n",
    "```"
   ]
  }
 ],
 "metadata": {
  "kernelspec": {
   "display_name": "Python 3",
   "language": "python",
   "name": "python3"
  },
  "language_info": {
   "codemirror_mode": {
    "name": "ipython",
    "version": 3
   },
   "file_extension": ".py",
   "mimetype": "text/x-python",
   "name": "python",
   "nbconvert_exporter": "python",
   "pygments_lexer": "ipython3",
   "version": "3.8.10"
  }
 },
 "nbformat": 4,
 "nbformat_minor": 4
}
