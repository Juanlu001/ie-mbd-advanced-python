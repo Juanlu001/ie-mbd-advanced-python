{
 "cells": [
  {
   "cell_type": "markdown",
   "metadata": {
    "slideshow": {
     "slide_type": "slide"
    }
   },
   "source": [
    "![IE](../img/ie.png)\n",
    "\n",
    "# Advanced Python\n",
    "\n",
    "## Master in Business Analytics and Big Data\n",
    "\n",
    "### Professor: Juan Luis Cano Rodríguez <jcano@faculty.ie.edu>"
   ]
  },
  {
   "cell_type": "markdown",
   "metadata": {
    "slideshow": {
     "slide_type": "slide"
    }
   },
   "source": [
    "# Where to go from here?\n",
    "\n",
    "- Keep improving the art of Python packaging\n",
    "- Explore other options for high performance Python\n",
    "- Help \"bridging the gap\"\n",
    "- Engage with the (open source) Python community\n",
    "\n",
    "![Junction](../img/junction.jpg)"
   ]
  },
  {
   "cell_type": "markdown",
   "metadata": {
    "slideshow": {
     "slide_type": "slide"
    }
   },
   "source": [
    "## Keep improving the art of Python packaging\n",
    "\n",
    "![packaging](../img/packaging.png)\n",
    "\n",
    "https://twitter.com/codewithanthony/status/1265697485780955137"
   ]
  },
  {
   "cell_type": "markdown",
   "metadata": {
    "slideshow": {
     "slide_type": "subslide"
    }
   },
   "source": [
    "## Keep improving the art of Python packaging\n",
    "\n",
    "(Now, seriously)\n",
    "\n",
    "- You have learned the golden practices for **library** deployment as of 2020\n",
    "  - For internal library sharing, create your own PyPI! See [pypiserver](https://github.com/pypiserver/pypiserver) or [devpi](https://github.com/devpi/devpi)\n",
    "- However, **application** code has its own rules!\n",
    "  - My recommendation: `pip-tools + requirements.in = requirements.txt`, see [pip-tools documentation](https://github.com/jazzband/pip-tools)\n",
    "  - Poetry, Pipenv... Yes, they work, but they are way more complex and have \"lock-in\"\n",
    "- All companies I worked for struggle sooner or later with their code deployment practices\n",
    "  - Now, you know better 😉 _\"With great power comes great responsibility\"_"
   ]
  },
  {
   "cell_type": "markdown",
   "metadata": {
    "slideshow": {
     "slide_type": "subslide"
    }
   },
   "source": [
    "## Explore other options for high performance Python\n",
    "\n",
    "- Numba, Modin, Vaex... There's just too many of them!\n",
    "- Each one has its pros and cons\n",
    "- There is a thriving ecosystem around Dask in particular, with many for-profit companies being created around it: [Coiled](https://coiled.io/), [Prefect](https://www.prefect.io/), and more\n",
    "- \"Spark is the new IBM\"?\n",
    "\n",
    "![Spark is the new IBM quote](../img/spark-new-ibm.png)"
   ]
  },
  {
   "cell_type": "markdown",
   "metadata": {
    "slideshow": {
     "slide_type": "subslide"
    }
   },
   "source": [
    "## Help \"bridging the gap\"\n",
    "\n",
    "- Knowing business _and_ programming **is a superpower!**\n",
    "- Data Science market is shrinking, because \"know-it-alls\" are rare (and finally, companies are realizing it)\n",
    "- From \"Data Architect\" to \"Data Analyst\", on which side of the spectrum are you?\n",
    "\n",
    "![Data Science market shrinking](../img/data-science-shrinking.png)"
   ]
  },
  {
   "cell_type": "markdown",
   "metadata": {
    "slideshow": {
     "slide_type": "subslide"
    }
   },
   "source": [
    "## Engage with the (open source) Python community\n",
    "\n",
    "![GitHub Reply](../img/github-reply.png)\n",
    "\n",
    "Find a balance between taking and giving :)"
   ]
  },
  {
   "cell_type": "markdown",
   "metadata": {
    "slideshow": {
     "slide_type": "slide"
    }
   },
   "source": [
    "and one last thing..."
   ]
  },
  {
   "cell_type": "markdown",
   "metadata": {
    "slideshow": {
     "slide_type": "fragment"
    }
   },
   "source": [
    "![Be kind: all else is details](../img/be-kind.png)\n",
    "\n",
    "💌 <jcano@faculty.ie.edu> May the Python be with you!"
   ]
  }
 ],
 "metadata": {
  "celltoolbar": "Slideshow",
  "kernelspec": {
   "display_name": "Python 3",
   "language": "python",
   "name": "python3"
  },
  "language_info": {
   "codemirror_mode": {
    "name": "ipython",
    "version": 3
   },
   "file_extension": ".py",
   "mimetype": "text/x-python",
   "name": "python",
   "nbconvert_exporter": "python",
   "pygments_lexer": "ipython3",
   "version": "3.8.10"
  }
 },
 "nbformat": 4,
 "nbformat_minor": 4
}
