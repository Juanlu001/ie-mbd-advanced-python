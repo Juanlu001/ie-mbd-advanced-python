{
 "cells": [
  {
   "cell_type": "markdown",
   "metadata": {
    "slideshow": {
     "slide_type": "slide"
    }
   },
   "source": [
    "![IE](../img/ie.png)\n",
    "\n",
    "# Session 5: Project layout\n",
    "\n",
    "### Juan Luis Cano Rodríguez <jcano@faculty.ie.edu> - Master in Business Analytics and Big Data"
   ]
  },
  {
   "cell_type": "markdown",
   "metadata": {},
   "source": [
    "## Overview\n",
    "\n",
    "Most data science projects will start with a bunch of notebooks. However, at some point we will want to reuse code between them, and eventually put our models in production without the need to use the notebooks themselves ([unless you are Netflix](https://medium.com/netflix-techblog/notebook-innovation-591ee3221233)). Choosing a good project layout is extremely important to organize the code, avoid common pitfalls and be predictable (i.e. imitate the rest of the ecosystem to minimize surprise). On the other hand, there is lots (**lots**) of outdated, bad or wrong advice on the Internet about this topic, so here we will present The Objective Truth™.\n",
    "\n",
    "### References\n",
    "\n",
    "* flit documentation https://flit.readthedocs.io/en/latest/"
   ]
  },
  {
   "cell_type": "markdown",
   "metadata": {},
   "source": [
    "### The `src` layout\n",
    "\n",
    "```\n",
    "package-name\n",
    "├─ src\n",
    "│  └─ package_name\n",
    "│     ├─ __init__.py\n",
    "│     └─ ...\n",
    "├─ tests\n",
    "│  └─ ...\n",
    "├─ README.md\n",
    "└─ pyproject.toml\n",
    "```\n",
    "\n",
    "* The `src/package_name` contains the source code of the library.\n",
    "  - The `package_name` is what users type after `import` in a Python script, and therefore cannot contain special characters (only letters, numbers, and underscores).\n",
    "  - It should contain a `__init__.py` that can be empty (more on that below).\n",
    "  - The `src` segment prevents you from *shooting yourself in the foot*, because it's common to do `import packagename` when you are developing, and this will import the code from the directory, not from your `sys.path`. Always include it.\n",
    "\n",
    "* The `tests` directory contains the tests. It **must not** contain any `__init__.py` because it's not meant to be imported as a package. In very specific cases it's included inside `src/package_name`.\n",
    "\n",
    "* Every project contains a `README.md` that at least explains what the project is.\n",
    "\n",
    "* `pyproject.toml` contains the metadata of the project. The absolutely required fields are `module`, `author`, and some extra information that tells Python how to install the package."
   ]
  },
  {
   "cell_type": "markdown",
   "metadata": {},
   "source": [
    "### Creating a package\n",
    "\n",
    "1. Run `flit init` to create the metadata:\n",
    "\n",
    "```\n",
    "$ flit init\n",
    "Module name: ie_utils\n",
    "Author [Juan Luis Cano Rodríguez]: \n",
    "Author email [jcano@faculty.ie.edu]: \n",
    "Home page: \n",
    "Choose a license (see http://choosealicense.com/ for more info)\n",
    "1. MIT - simple and permissive\n",
    "2. Apache - explicitly grants patent rights\n",
    "3. GPL - ensures that code based on this is shared with the same terms\n",
    "4. Skip - choose a license later\n",
    "Enter 1-4 [1]: 4\n",
    "\n",
    "Written pyproject.toml; edit that file to add optional extra info.\n",
    "$ cat pyproject.toml \n",
    "[build-system]\n",
    "requires = [\"flit_core >=2, <4\"]\n",
    "build-backend = \"flit_core.buildapi\"\n",
    "\n",
    "[tool.flit.metadata]\n",
    "module = \"ie_utils\"\n",
    "author = \"Juan Luis Cano Rodríguez\"\n",
    "author-email = \"jcano@faculty.ie.edu\"\n",
    "\n",
    "\n",
    "```\n",
    "\n",
    "2. Place some code under the source directory. In `__init__.py` there must be a docstring giving a description of the project and a `__version__` variable indicating the version:\n",
    "\n",
    "```\n",
    "$ mkdir src\n",
    "$ mkdir src/ie_utils/\n",
    "$ nano src/ie_utils/__init__.py  # ...\n",
    "$ cat src/ie_utils/__init__.py\n",
    "$ cat src/ie_utils/__init__.py \n",
    "\"\"\"IE utils (test package).\"\"\"\n",
    "\n",
    "__version__ = \"0.1.0\"\n",
    "\n",
    "```\n",
    "\n",
    "3. Install the code using `pip install`!\n",
    "\n",
    "```\n",
    "$ pip install .\n",
    "$ python\n",
    ">>> import ie_utils\n",
    ">>> ie_utils.__version__\n",
    "'0.1.0'\n",
    "\n",
    "```\n",
    "\n",
    "This is an alternative to modifying the `PYTHONPATH` environment variable (see previous session).\n",
    "\n",
    "4. Add a `README.md` and a `.gitignore` file, for example copying the one from https://www.gitignore.io/api/python.\n",
    "5. Commit the changes 🎉"
   ]
  },
  {
   "cell_type": "markdown",
   "metadata": {},
   "source": [
    "### _Intermezzo:_ Version numbers\n",
    "\n",
    "* Version numbers for Python packages are explained in [PEP 440](https://www.python.org/dev/peps/pep-0440/)\n",
    "* For libraries, the most widely used convention is [semantic versioning](https://semver.org/): `X.Y.Z`\n",
    "  - `Z` **must** be incremented if only backwards compatible bug fixes are introduced (a bug fix is defined as an internal change that fixes incorrect behavior)\n",
    "  - `Y` **must** be incremented every time there is new, backwards-compatible functionality\n",
    "  - `X` **must** be incremented every time there are backwards-incompatible changes\n",
    "* Between releases, the version should have the `.dev0` suffix\n",
    "* Recommendation: start with `0.1.dev0` (development version), then make a `0.1.0` release, then progress to `0.1.1` for quick fixes and `0.2.0` for new functionality, and when you want to make a promise of *relative* stability jump to `1.0.0`\n",
    "* For applications, other conventions are more appropriate, like [calendar versioning](http://calver.org/): `[YY]YY.MM.??`"
   ]
  },
  {
   "cell_type": "markdown",
   "metadata": {},
   "source": [
    "## Project requirements\n",
    "\n",
    "Sometimes our project will depend on third-party libraries (pandas, scikit-learn). To make pip install those dependencies automatically, we can add them to our `pyproject.toml` under the `[tool.flit.metadata]` section, using the `requires` option:\n",
    "\n",
    "```\n",
    "[build-system]\n",
    "requires = [\"flit_core >=2, <4\"]\n",
    "build-backend = \"flit_core.buildapi\"\n",
    "\n",
    "[tool.flit.metadata]\n",
    "module = \"ie_utils\"\n",
    "author = \"Juan Luis Cano Rodríguez\"\n",
    "author-email = \"jcano@faculty.ie.edu\"\n",
    "classifiers = [\"License :: OSI Approved :: MIT License\"]\n",
    "requires = [\n",
    "    \"pandas\",\n",
    "    \"matplotlib>=2\",\n",
    "]\n",
    "```\n",
    "\n",
    "On the other hand, we might want to specify _optional_ dependencies that should only be installed upon request, or for some specific purposes. A typical example will be development dependencies: we will need things like pytest and black, but we don't want the user to install them as part as our library. To do that, we can specify *groups* of optional dependencies under the `tool.flit.metadata.requires-extra` section:\n",
    "\n",
    "```\n",
    "[tool.flit.metadata.requires-extra]\n",
    "dev = [\n",
    "    \"black\",\n",
    "    \"pytest\",\n",
    "]\n",
    "```\n",
    "\n",
    "That way, they will only get installed when `[dev]` is added after the name of our library:\n",
    "\n",
    "```\n",
    "$ pip install .[dev]\n",
    "$ # pip install /path/to/library/[dev]  # Absolute instead of relative paths\n",
    "$ # pip install library[dev]  # Libraries already available in pypi.org\n",
    "```"
   ]
  }
 ],
 "metadata": {
  "kernelspec": {
   "display_name": "Python 3",
   "language": "python",
   "name": "python3"
  },
  "language_info": {
   "codemirror_mode": {
    "name": "ipython",
    "version": 3
   },
   "file_extension": ".py",
   "mimetype": "text/x-python",
   "name": "python",
   "nbconvert_exporter": "python",
   "pygments_lexer": "ipython3",
   "version": "3.8.10"
  }
 },
 "nbformat": 4,
 "nbformat_minor": 4
}
