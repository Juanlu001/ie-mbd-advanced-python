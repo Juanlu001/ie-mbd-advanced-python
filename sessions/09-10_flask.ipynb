{
 "cells": [
  {
   "cell_type": "markdown",
   "metadata": {
    "slideshow": {
     "slide_type": "slide"
    }
   },
   "source": [
    "![IE](../img/ie.png)\n",
    "\n",
    "# Sessions 9 & 10: REST APIs using Flask\n",
    "\n",
    "### Juan Luis Cano Rodríguez <jcano@faculty.ie.edu> - Master in Business Analytics and Big Data"
   ]
  },
  {
   "cell_type": "markdown",
   "metadata": {},
   "source": [
    "## Deployment in the real world\n",
    "\n",
    "![Client-Server architecture](../img/client-server.png)\n",
    "\n",
    "Normal users do not interact with machine learning models using Python or Jupyter notebooks, but through some sort of interface that hides all that complexity and exposes a simple way to use such models. A common paradigm to develop User Interfaces (UIs) for machine learning models leverage **web applications**, which follow the **client-server model**.\n",
    "\n",
    "In a web application, the **client** (usually a web browser) sends a request to the **server** (a computer connected to the Internet) that processes it and returns a **response**. Although modern applications follow a more continuous and asynchronous approach, most of them work at this level behind the scenes.\n",
    "\n",
    "## What is an API?\n",
    "\n",
    "An [API](https://en.wikipedia.org/wiki/Application_programming_interface) (short for Application Programming Interface) is a broad term that covers any \"interface or communication protocol between different parts of a computer program intended to simplify the implementation and maintenance of software\".\n",
    "\n",
    "Thinking in terms of APIs allows us to decouple the visual presentation of the information from its actual structure. In fact, many modern web applications work by translating the user input into a request to an API (using the steps described above) that returns data in a structured format, and then adding visual information to that data.\n",
    "\n",
    "An excursion into Web Design and Frontend Engineering is outside the scope of this course, but nonetheless we will learn how to create simple APIs for our machine learning models that can be consumed by more complex applications.\n",
    "\n",
    "## Web frameworks in Python\n",
    "\n",
    "There are several libraries in Python to develop web applications, usually called frameworks. The two most famous ones are Flask and Django:\n",
    "\n",
    "* [Flask](https://flask.palletsprojects.com/en/1.1.x/) is a \"lightweight framework\" or a \"microframework\". \"It is designed to make getting started quick and easy, with the ability to scale up to complex applications\", and therefore requires less context to get started with.\n",
    "* [Django](https://www.djangoproject.com/) is a \"batteries included\" framework that is more focused on good practices and encouraging a \"clean, pragmatic design\". It's more complex and requires more experience to master.\n",
    "\n",
    "We will use Flask for the rest of this session."
   ]
  }
 ],
 "metadata": {
  "kernelspec": {
   "display_name": "Python 3",
   "language": "python",
   "name": "python3"
  },
  "language_info": {
   "codemirror_mode": {
    "name": "ipython",
    "version": 3
   },
   "file_extension": ".py",
   "mimetype": "text/x-python",
   "name": "python",
   "nbconvert_exporter": "python",
   "pygments_lexer": "ipython3",
   "version": "3.8.2"
  }
 },
 "nbformat": 4,
 "nbformat_minor": 4
}
